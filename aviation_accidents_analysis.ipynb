{
  "nbformat": 4,
  "nbformat_minor": 0,
  "metadata": {
    "colab": {
      "provenance": [],
      "authorship_tag": "ABX9TyMkTFMZZ3W2x66e8W2YvnxZ",
      "include_colab_link": true
    },
    "kernelspec": {
      "name": "python3",
      "display_name": "Python 3"
    },
    "language_info": {
      "name": "python"
    }
  },
  "cells": [
    {
      "cell_type": "markdown",
      "metadata": {
        "id": "view-in-github",
        "colab_type": "text"
      },
      "source": [
        "<a href=\"https://colab.research.google.com/github/ProfAI/progetti/blob/main/aviation_accidents_analysis.ipynb\" target=\"_parent\"><img src=\"https://colab.research.google.com/assets/colab-badge.svg\" alt=\"Open In Colab\"/></a>"
      ]
    },
    {
      "cell_type": "markdown",
      "source": [
        "# Analisi dei disastri aerei dal 1919 al 2023\n",
        "La neonata IASS (International Alliance for Safe Skies) ti ha incaricato di svolgere un'accurata analisi di tutti gli incidenti aerei che si sono verificati dal 1919 al 2023. \n",
        "\n",
        "A tale scopo ti mette a disposizione un set di dati in cui sono registrati oltre 100.000 incidenti con le seguenti informazioni\n",
        "\n",
        "- date: data dell'incidente\n",
        "- type: tipo del veivolo\n",
        "- registration: codice di registrazione del veivolo\n",
        "- operator: operatore del veivolo\n",
        "- fatalities: numero di morti\n",
        "- location: luogo dell'incidente\n",
        "- country: nazione dell'incidente\n",
        "- cat: categoria dell'incidente come descritto dal ASN\n",
        "\n",
        "Utilizza i dati per portale alla luce, anche tramite grafici e visualizzazioni, utili insight.\n",
        "\n",
        "#### ESEMPI DI INSIGHT\n",
        " - In quale nazione si sono verificati più incidenti?\n",
        " - Gli incidenti avvengono più di frequente durante determinate fasce orarie?\n",
        " - Quali sono gli operatori più sicuri?\n",
        " - Quale tipo di veivolo ha causato più morti?\n",
        " - Come si sono evoluti gli incidenti dopo l'11 Settembre?\n",
        "\n",
        "\n",
        "#### BONUS\n",
        "Crea un cartogramma che rappresenti il numero di incidenti per nazione\n",
        "<img src=\"https://github.com/ProfAI/progetti/blob/main/resources/cartogramma_incidenti_aerei.jpg?raw=true\"/>\n",
        "\n",
        "### [Link al dataset](https://proai-datasets.s3.eu-west-3.amazonaws.com/aviation-accidents.csv)"
      ],
      "metadata": {
        "id": "YRB817oPylVa"
      }
    },
    {
      "cell_type": "code",
      "execution_count": null,
      "metadata": {
        "id": "M-NrOWHPw0SE"
      },
      "outputs": [],
      "source": [
        "\n"
      ]
    }
  ]
}