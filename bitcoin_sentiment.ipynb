{
  "nbformat": 4,
  "nbformat_minor": 0,
  "metadata": {
    "colab": {
      "provenance": [],
      "include_colab_link": true
    },
    "kernelspec": {
      "name": "python3",
      "display_name": "Python 3"
    },
    "language_info": {
      "name": "python"
    }
  },
  "cells": [
    {
      "cell_type": "markdown",
      "metadata": {
        "id": "view-in-github",
        "colab_type": "text"
      },
      "source": [
        "<a href=\"https://colab.research.google.com/github/ProfAI/progetti/blob/main/bitcoin_sentiment.ipynb\" target=\"_parent\"><img src=\"https://colab.research.google.com/assets/colab-badge.svg\" alt=\"Open In Colab\"/></a>"
      ]
    },
    {
      "cell_type": "markdown",
      "source": [
        "# Analisi del consenso sul Bitcoin\n",
        "\n",
        "Sei stato reclutato da un'azienda di ricerche di mercato per stimare il consenso delle persone verso il Bitcoin. Un team di data engineer ha estratto diversi milioni di tweet che parlano di Bitcoin, il tuo compito è quello di eseguire un'analisi del sentiment e creare un grafico che mostri come questo è variato giorno per giorno. Utilizza anche i dati per rispondere a domande interessanti, come:\n",
        "- i tweet negativi hanno avuto più likes rispetto a quelli positivi?\n",
        "- i tweet negativi hanno avuto più interazioni (risposte) rispetto a quelli positivi?\n",
        "\n",
        "#### BONUS\n",
        "Verifica se la variazione del sentiment è associata ad una variazione del valore del Bitcoin, per svolgere questa task devi reperire in autonomia lo storico di BTC USD"
      ],
      "metadata": {
        "id": "sABH0oPvJUpJ"
      }
    },
    {
      "cell_type": "markdown",
      "source": [
        "### [Link al dataset](https://proai-datasets.s3.eu-west-3.amazonaws.com/bitcoin_tweets.csv)\n"
      ],
      "metadata": {
        "id": "brH3A2syiXHA"
      }
    },
    {
      "cell_type": "markdown",
      "source": [
        "### VINCOLI\n",
        "Per questo progetto dovrai sfruttare PySpark e i suoi vari strumenti, puoi lavorare con PySpark in cloud gratuitamente utilizzando [DataBricks Community](https://community.cloud.databricks.com/login.html)"
      ],
      "metadata": {
        "id": "Q81_vTz3hsCC"
      }
    },
    {
      "cell_type": "markdown",
      "source": [
        "Per poter caricare il dataframe e trasformarlo in una table basta eseguire su Notebook Databricks le seguenti righe di codice:"
      ],
      "metadata": {
        "id": "pGOtdW1pyzRO"
      }
    },
    {
      "cell_type": "code",
      "source": [
        "!wget https://proai-datasets.s3.eu-west-3.amazonaws.com/bitcoin_tweets.csv\n",
        "\n",
        "import pandas as pd\n",
        "dataset = pd.read_csv('/databricks/driver/bitcoin_tweets.csv', delimiter=\";\")\n",
        "\n",
        "spark_df = spark.createDataFrame(dataset)\n",
        "spark_df.write.saveAsTable(\"bitcoin_tweets\")"
      ],
      "metadata": {
        "id": "WXwQB6jiyz8Z"
      },
      "execution_count": null,
      "outputs": []
    }
  ]
}